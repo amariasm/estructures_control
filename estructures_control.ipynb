{
 "cells": [
  {
   "cell_type": "markdown",
   "id": "589a876f-8dfc-43d6-bb23-9a9abf9cdff2",
   "metadata": {},
   "source": [
    "# Sprint 2 : Estructures de Control\n",
    "## Nivell 1\n",
    "### Exercici 1\n",
    "#### L'exercici consisteix a crear un programa que et classifiqui una variable numèrica en funció de l’escala Suspès/Aprovat/Notable/Excel·lent."
   ]
  },
  {
   "cell_type": "code",
   "execution_count": 1,
   "id": "8be243d3-4aa2-4921-8fea-30e53dbfc4ac",
   "metadata": {},
   "outputs": [
    {
     "name": "stdin",
     "output_type": "stream",
     "text": [
      "Introduce una nota:  8\n"
     ]
    },
    {
     "name": "stdout",
     "output_type": "stream",
     "text": [
      "Notable\n",
      "***************************************\n"
     ]
    }
   ],
   "source": [
    "from sre_constants import _NamedIntConstant\n",
    "\n",
    "nota1 = input(\"Introduce una nota: \")\n",
    "nota= int(nota1)\n",
    "\n",
    "if nota<5 :\n",
    "    print (\"Suspenso\")\n",
    "elif nota >=5 and nota<= 6 :\n",
    "    print(\"Aprobado\")\n",
    "elif nota>=6 and nota< 7:\n",
    "    print(\"Bien\")\n",
    "elif nota>= 7 and nota <9:\n",
    "    print (\"Notable\")\n",
    "else :\n",
    "    print (\"Sobresaliente\")\n",
    "\n",
    "print(\"***************************************\")"
   ]
  },
  {
   "cell_type": "markdown",
   "id": "414cb2d5-f76f-4d5b-a6de-df27bef52755",
   "metadata": {},
   "source": [
    "### Exercici 2\n",
    "### Utilitzant el següent tutorial Programiz: Python Input, Output and Import crea un programa que et pregunti dos números.\n",
    "### T’ha de mostrar un missatge dient si el primer és més gran, el segon és més gran o són iguals."
   ]
  },
  {
   "cell_type": "code",
   "execution_count": 2,
   "id": "15217acd-8b72-4876-a3d3-e7f8efa908aa",
   "metadata": {},
   "outputs": [
    {
     "name": "stdin",
     "output_type": "stream",
     "text": [
      "Introduce el número 1:  6\n",
      "Introduce el número 2:  8\n"
     ]
    },
    {
     "name": "stdout",
     "output_type": "stream",
     "text": [
      "El número  8  es mayor que el número  6\n",
      "***************************************\n"
     ]
    }
   ],
   "source": [
    "numero1 = input(\"Introduce el número 1: \")\n",
    "numero1 = int(numero1)\n",
    "numero2= input(\"Introduce el número 2: \")\n",
    "numero2=int(numero2)\n",
    "\n",
    "if numero1==numero2:\n",
    "    print (\"Los número son iguales\")\n",
    "elif numero1>numero2:\n",
    "    print(\"El número \", numero1,\" es más grande que el número \",numero2)\n",
    "else:\n",
    "    print(\"El número \" , numero2, \" es mayor que el número \",numero1)\n",
    "\n",
    "print(\"***************************************\")"
   ]
  },
  {
   "cell_type": "markdown",
   "id": "eadac930-f9c3-46c2-bc5a-15b2ebe1b0d5",
   "metadata": {},
   "source": [
    "### Exercici 3\n",
    "#### Crea un programa que et pregunti el teu nom, i et demani un número.\n",
    "#### Si el número és 0, hauria de mostrar un missatge d’error.\n",
    "#### En cas contrari, hauria de mostrar el nom repetit tants cops com indiqui el número. Per exemple, “Joan Joan Joan”."
   ]
  },
  {
   "cell_type": "code",
   "execution_count": 3,
   "id": "ce52fea9-2c58-496e-b1a4-bde07fbaff25",
   "metadata": {},
   "outputs": [
    {
     "name": "stdin",
     "output_type": "stream",
     "text": [
      "Introcuce tu nombre:  ana\n",
      "Introduce un número:  6\n"
     ]
    },
    {
     "name": "stdout",
     "output_type": "stream",
     "text": [
      "ana ana ana ana ana ana \n",
      "***************************************\n"
     ]
    }
   ],
   "source": [
    "nombre = input(\"Introcuce tu nombre: \")\n",
    "numero = input(\"Introduce un número: \")\n",
    "numero = int(numero)\n",
    "\n",
    "\n",
    "if numero == 0:\n",
    "    print(\"El número no es válido\")\n",
    "else:\n",
    "    for i in range(numero):\n",
    "       print (nombre, end=\" \")\n",
    "\n",
    "print(\"\")\n",
    "print(\"***************************************\")"
   ]
  },
  {
   "cell_type": "markdown",
   "id": "59256147-a899-4303-a260-718831b84508",
   "metadata": {},
   "source": [
    "### Exercici 4\n",
    "#### Crea un programa que donada una llista qualsevol, et digui si es simètrica o no. Si ho és, que et digui quants elements té."
   ]
  },
  {
   "cell_type": "code",
   "execution_count": 4,
   "id": "4a8b515c-e447-4388-8f76-6eedef96b7da",
   "metadata": {},
   "outputs": [
    {
     "name": "stdout",
     "output_type": "stream",
     "text": [
      "la lista es simétrica, y tiene  5  elementos\n",
      "***************************************\n"
     ]
    }
   ],
   "source": [
    "#miLista1 =[1,2,3,4,3,2,1] \n",
    "miLista1 = [25,15,48,15,25]\n",
    "\n",
    "if miLista1[::] == miLista1[::-1]:\n",
    "    print (\"la lista es simétrica, y tiene \", len(miLista1), \" elementos\")\n",
    "else: \n",
    "    print(\"la lista no es simétrica\")\n",
    "\n",
    "print(\"***************************************\")"
   ]
  },
  {
   "cell_type": "markdown",
   "id": "db20d388-aef7-4f9d-b4e2-027d3ae10815",
   "metadata": {},
   "source": [
    "### Exercici 5\n",
    "#### Crea un programa que donada una llista, et digui quants números coincideixen amb la seva posició.\n",
    "#### Per exemple [3,4,2,0,2,3,6] el 2 i el 6 coincideixen."
   ]
  },
  {
   "cell_type": "code",
   "execution_count": 5,
   "id": "df2d0bbf-7136-472c-b4c9-0937b322a400",
   "metadata": {},
   "outputs": [
    {
     "name": "stdout",
     "output_type": "stream",
     "text": [
      "Los números que coinciden con su posición son:  [2, 6]\n"
     ]
    }
   ],
   "source": [
    "miLista =[3,4,2,0,2,3,6]\n",
    "coinciden = []\n",
    "for i in range (len(miLista)):\n",
    "    if miLista[i]==i:\n",
    "        coinciden.append(i)\n",
    "\n",
    "print (\"Los números que coinciden con su posición son: \", coinciden)    "
   ]
  },
  {
   "cell_type": "code",
   "execution_count": null,
   "id": "bd82e9e3-183e-4f49-871b-1c0a510803e1",
   "metadata": {},
   "outputs": [],
   "source": []
  }
 ],
 "metadata": {
  "kernelspec": {
   "display_name": "Python 3 (ipykernel)",
   "language": "python",
   "name": "python3"
  },
  "language_info": {
   "codemirror_mode": {
    "name": "ipython",
    "version": 3
   },
   "file_extension": ".py",
   "mimetype": "text/x-python",
   "name": "python",
   "nbconvert_exporter": "python",
   "pygments_lexer": "ipython3",
   "version": "3.9.7"
  }
 },
 "nbformat": 4,
 "nbformat_minor": 5
}
